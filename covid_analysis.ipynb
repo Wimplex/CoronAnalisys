{
 "cells": [
  {
   "cell_type": "code",
   "execution_count": 509,
   "metadata": {},
   "outputs": [],
   "source": [
    "import warnings\n",
    "warnings.filterwarnings('ignore')\n",
    "\n",
    "import json\n",
    "\n",
    "import pandas as pd\n",
    "import numpy as np\n",
    "\n",
    "import matplotlib.cm as cm\n",
    "import matplotlib.pyplot as plt\n",
    "import matplotlib.colors as colors\n",
    "\n",
    "from selenium import webdriver\n",
    "from bs4 import BeautifulSoup"
   ]
  },
  {
   "cell_type": "code",
   "execution_count": 510,
   "metadata": {},
   "outputs": [],
   "source": [
    "# Константы\n",
    "corona_url = \"https://www.worldometers.info/coronavirus\"\n",
    "democracy_url = \"https://en.wikipedia.org/wiki/Democracy_Index\"\n",
    "gdp_url = \"https://en.wikipedia.org/wiki/List_of_countries_by_GDP_(PPP)_per_capita\"\n",
    "\n",
    "plots_dir = 'plots/'\n",
    "data_file = 'data.csv'\n",
    "keys = ['country', 'total_cases', 'new_cases', 'total_deaths', 'new_deaths',\n",
    "        'total_rec', 'active_cases', 'critical',\n",
    "        'tot_cases_1mpop', 'deaths_1mpop', 'total_tests', 'tests_1mpop']\n",
    "\n",
    "country_replacement = {\n",
    "    'United States': 'USA',\n",
    "    'United Kingdom': 'UK',\n",
    "    'South Korea[n 2]': 'S. Korea',\n",
    "    'United Arab Emirates': 'UAE',\n",
    "    'Czech Republic': 'Czechia',\n",
    "    'Democratic Republic of the Congo': 'DRC',\n",
    "#     '': '',\n",
    "}"
   ]
  },
  {
   "cell_type": "markdown",
   "metadata": {},
   "source": [
    "#### Сбор данных"
   ]
  },
  {
   "cell_type": "code",
   "execution_count": 511,
   "metadata": {},
   "outputs": [],
   "source": [
    "# Сбор данных по коронавирусу\n",
    "def coronavirus_scrap(driver):\n",
    "\n",
    "    # Получаем разметку страницы\n",
    "    driver.get(corona_url)\n",
    "    soup = BeautifulSoup(driver.page_source, 'html.parser')\n",
    "\n",
    "    # Извлекаем html-таблицу с нужными нам данными\n",
    "    table = soup.find('table', attrs={\n",
    "        'id': 'main_table_countries_today',\n",
    "    })\n",
    "    table = table.findChildren('tbody', recursive=False)[0]\n",
    "\n",
    "    # Извлекаем данные\n",
    "    raw_data = {key: [] for key in keys}\n",
    "    for row in table.find_all('tr', style=lambda x: x != 'display: none', recursive=False):\n",
    "        for i, col in enumerate(row.find_all('td', recursive=False)):\n",
    "\n",
    "            # Пропускается название континента\n",
    "            if i < len(keys):\n",
    "                raw_data[keys[i]].append(col.text)\n",
    "\n",
    "    # Создаем датафрейм с необработанными данными\n",
    "    raw_df = pd.DataFrame(raw_data)\n",
    "    return raw_df"
   ]
  },
  {
   "cell_type": "code",
   "execution_count": 512,
   "metadata": {},
   "outputs": [],
   "source": [
    "# Сбор данных о политическом режиме\n",
    "def democracy_index_scrap(driver):\n",
    "    \n",
    "    driver.get(democracy_url)\n",
    "    soup = BeautifulSoup(driver.page_source, 'html.parser')\n",
    "    \n",
    "    table = soup.find('table', attrs={\n",
    "        'style': 'text-align:center;'\n",
    "    })\n",
    "    table = table.find_all('tbody', recursive=False)[0]\n",
    "    all_rows = table.find_all('tr')[1:-1]\n",
    "    country_demoindex = {}\n",
    "    for row in all_rows:\n",
    "        cols = row.find_all('td')\n",
    "        \n",
    "        # Обработка особых объединенных строк\n",
    "        if '.' in cols[1].text.strip():\n",
    "            country_demoindex[cols[0].text.strip()] = cols[1].text.strip()\n",
    "        else:\n",
    "            country_demoindex[cols[1].text.strip()] = cols[2].text.strip()\n",
    "    \n",
    "    return country_demoindex"
   ]
  },
  {
   "cell_type": "code",
   "execution_count": 513,
   "metadata": {},
   "outputs": [],
   "source": [
    "# Сбор данных о ВВП\n",
    "def gdp_scrap(driver):\n",
    "    \n",
    "    driver.get(gdp_url)\n",
    "    soup = BeautifulSoup(driver.page_source, 'html.parser')\n",
    "    \n",
    "    table = soup.find('table', attrs={\n",
    "        'style': 'margin-left:auto;margin-right:auto;text-align: right'\n",
    "    })\n",
    "    table = table.find_all('tbody', recursive=False)[0]\n",
    "    all_rows = table.find_all('tr')[1:-3]\n",
    "    country_gdp = {}\n",
    "    for row in all_rows:\n",
    "        cols = row.find_all('td')\n",
    "        country_gdp[cols[1].text.strip()] = cols[2].text.strip().replace(',', '')\n",
    "    \n",
    "    return country_gdp"
   ]
  },
  {
   "cell_type": "markdown",
   "metadata": {},
   "source": [
    "#### Очистка данных"
   ]
  },
  {
   "cell_type": "code",
   "execution_count": 514,
   "metadata": {},
   "outputs": [],
   "source": [
    "def data_cleaning(raw_df):\n",
    "    # Удалим первую строку с общемировыми показателями\n",
    "    raw_df = raw_df.iloc[1:, :]\n",
    "    \n",
    "    # Проведем очистку для каждого столбца\n",
    "    for key in keys[1:]:\n",
    "        raw_df[key] = raw_df[key].apply(lambda x: x.strip().replace(',', '').replace('+', ''))\n",
    "        raw_df[key] = pd.to_numeric(raw_df[key], errors='ignore')\n",
    "    return raw_df"
   ]
  },
  {
   "cell_type": "markdown",
   "metadata": {},
   "source": [
    "#### Собираем воедино"
   ]
  },
  {
   "cell_type": "code",
   "execution_count": 515,
   "metadata": {},
   "outputs": [],
   "source": [
    "# Запускаем браузер\n",
    "driver = webdriver.Chrome()"
   ]
  },
  {
   "cell_type": "code",
   "execution_count": 516,
   "metadata": {},
   "outputs": [],
   "source": [
    "# Собираем данные по коронавирусу\n",
    "df = coronavirus_scrap(driver)"
   ]
  },
  {
   "cell_type": "code",
   "execution_count": 517,
   "metadata": {},
   "outputs": [],
   "source": [
    "# Собираем данные о политическом режиме\n",
    "demo_idx = democracy_index_scrap(driver)\n",
    "\n",
    "# Приводим в общий вариант \n",
    "demo_idx = {country_replacement.get(key, key): value for key, value in demo_idx.items()}\n",
    "\n",
    "df['demo_idx'] = df['country'].map(demo_idx)\n",
    "df['demo_idx'] = df['demo_idx'].astype(np.float32)"
   ]
  },
  {
   "cell_type": "code",
   "execution_count": 518,
   "metadata": {},
   "outputs": [],
   "source": [
    "# Собираем данные о ВВП\n",
    "gdp = gdp_scrap(driver)\n",
    "\n",
    "# Приводим в общий вариант \n",
    "gdp = {country_replacement.get(key, key): value for key, value in gdp.items()}\n",
    "\n",
    "df['gdp'] = df['country'].map(gdp)\n",
    "df['gdp'] = df['gdp'].astype(np.float32)"
   ]
  },
  {
   "cell_type": "code",
   "execution_count": 519,
   "metadata": {},
   "outputs": [],
   "source": [
    "# Очищаем получнные данные\n",
    "df = data_cleaning(df)"
   ]
  },
  {
   "cell_type": "code",
   "execution_count": 520,
   "metadata": {},
   "outputs": [
    {
     "data": {
      "text/html": [
       "<div>\n",
       "<style scoped>\n",
       "    .dataframe tbody tr th:only-of-type {\n",
       "        vertical-align: middle;\n",
       "    }\n",
       "\n",
       "    .dataframe tbody tr th {\n",
       "        vertical-align: top;\n",
       "    }\n",
       "\n",
       "    .dataframe thead th {\n",
       "        text-align: right;\n",
       "    }\n",
       "</style>\n",
       "<table border=\"1\" class=\"dataframe\">\n",
       "  <thead>\n",
       "    <tr style=\"text-align: right;\">\n",
       "      <th></th>\n",
       "      <th>country</th>\n",
       "      <th>total_cases</th>\n",
       "      <th>new_cases</th>\n",
       "      <th>total_deaths</th>\n",
       "      <th>new_deaths</th>\n",
       "      <th>total_rec</th>\n",
       "      <th>active_cases</th>\n",
       "      <th>critical</th>\n",
       "      <th>tot_cases_1mpop</th>\n",
       "      <th>deaths_1mpop</th>\n",
       "      <th>total_tests</th>\n",
       "      <th>tests_1mpop</th>\n",
       "      <th>demo_idx</th>\n",
       "      <th>gdp</th>\n",
       "    </tr>\n",
       "  </thead>\n",
       "  <tbody>\n",
       "    <tr>\n",
       "      <th>1</th>\n",
       "      <td>USA</td>\n",
       "      <td>990021</td>\n",
       "      <td>2861.0</td>\n",
       "      <td>55499.0</td>\n",
       "      <td>86.0</td>\n",
       "      <td>118869</td>\n",
       "      <td>815653</td>\n",
       "      <td>15143.0</td>\n",
       "      <td>2991.0</td>\n",
       "      <td>168.0</td>\n",
       "      <td>5530655.0</td>\n",
       "      <td>16709.0</td>\n",
       "      <td>7.96</td>\n",
       "      <td>67426.0</td>\n",
       "    </tr>\n",
       "    <tr>\n",
       "      <th>2</th>\n",
       "      <td>Spain</td>\n",
       "      <td>229422</td>\n",
       "      <td>2793.0</td>\n",
       "      <td>23521.0</td>\n",
       "      <td>331.0</td>\n",
       "      <td>120832</td>\n",
       "      <td>85069</td>\n",
       "      <td>7764.0</td>\n",
       "      <td>4907.0</td>\n",
       "      <td>503.0</td>\n",
       "      <td>1345560.0</td>\n",
       "      <td>28779.0</td>\n",
       "      <td>8.29</td>\n",
       "      <td>43007.0</td>\n",
       "    </tr>\n",
       "    <tr>\n",
       "      <th>3</th>\n",
       "      <td>Italy</td>\n",
       "      <td>197675</td>\n",
       "      <td>NaN</td>\n",
       "      <td>26644.0</td>\n",
       "      <td>NaN</td>\n",
       "      <td>64928</td>\n",
       "      <td>106103</td>\n",
       "      <td>2009.0</td>\n",
       "      <td>3269.0</td>\n",
       "      <td>441.0</td>\n",
       "      <td>1757659.0</td>\n",
       "      <td>29071.0</td>\n",
       "      <td>7.52</td>\n",
       "      <td>41582.0</td>\n",
       "    </tr>\n",
       "    <tr>\n",
       "      <th>4</th>\n",
       "      <td>France</td>\n",
       "      <td>162100</td>\n",
       "      <td>NaN</td>\n",
       "      <td>22856.0</td>\n",
       "      <td>NaN</td>\n",
       "      <td>44903</td>\n",
       "      <td>94341</td>\n",
       "      <td>4682.0</td>\n",
       "      <td>2483.0</td>\n",
       "      <td>350.0</td>\n",
       "      <td>463662.0</td>\n",
       "      <td>7103.0</td>\n",
       "      <td>8.12</td>\n",
       "      <td>48640.0</td>\n",
       "    </tr>\n",
       "    <tr>\n",
       "      <th>5</th>\n",
       "      <td>Germany</td>\n",
       "      <td>158142</td>\n",
       "      <td>372.0</td>\n",
       "      <td>5985.0</td>\n",
       "      <td>9.0</td>\n",
       "      <td>114500</td>\n",
       "      <td>37657</td>\n",
       "      <td>2570.0</td>\n",
       "      <td>1887.0</td>\n",
       "      <td>71.0</td>\n",
       "      <td>2072669.0</td>\n",
       "      <td>24738.0</td>\n",
       "      <td>8.68</td>\n",
       "      <td>55306.0</td>\n",
       "    </tr>\n",
       "  </tbody>\n",
       "</table>\n",
       "</div>"
      ],
      "text/plain": [
       "   country  total_cases  new_cases  total_deaths  new_deaths total_rec  \\\n",
       "1      USA       990021     2861.0       55499.0        86.0    118869   \n",
       "2    Spain       229422     2793.0       23521.0       331.0    120832   \n",
       "3    Italy       197675        NaN       26644.0         NaN     64928   \n",
       "4   France       162100        NaN       22856.0         NaN     44903   \n",
       "5  Germany       158142      372.0        5985.0         9.0    114500   \n",
       "\n",
       "   active_cases  critical  tot_cases_1mpop  deaths_1mpop  total_tests  \\\n",
       "1        815653   15143.0           2991.0         168.0    5530655.0   \n",
       "2         85069    7764.0           4907.0         503.0    1345560.0   \n",
       "3        106103    2009.0           3269.0         441.0    1757659.0   \n",
       "4         94341    4682.0           2483.0         350.0     463662.0   \n",
       "5         37657    2570.0           1887.0          71.0    2072669.0   \n",
       "\n",
       "   tests_1mpop  demo_idx      gdp  \n",
       "1      16709.0      7.96  67426.0  \n",
       "2      28779.0      8.29  43007.0  \n",
       "3      29071.0      7.52  41582.0  \n",
       "4       7103.0      8.12  48640.0  \n",
       "5      24738.0      8.68  55306.0  "
      ]
     },
     "execution_count": 520,
     "metadata": {},
     "output_type": "execute_result"
    }
   ],
   "source": [
    "# Завершение работы браузера\n",
    "driver.close()\n",
    "\n",
    "# Сохранение датафрейма\n",
    "df.to_csv(data_file)\n",
    "\n",
    "df.head()"
   ]
  },
  {
   "cell_type": "markdown",
   "metadata": {},
   "source": [
    "#### Анализ данных"
   ]
  },
  {
   "cell_type": "code",
   "execution_count": 521,
   "metadata": {},
   "outputs": [],
   "source": [
    "# Расчитаем отношение числа заражений к числу смертей\n",
    "df['cases_deaths_rate'] = np.round(df['total_cases'] / df['total_deaths'], 1)"
   ]
  },
  {
   "cell_type": "code",
   "execution_count": 562,
   "metadata": {},
   "outputs": [],
   "source": [
    "red = '#C5388D'\n",
    "# blue = '#7B59BF'\n",
    "blue = '#000000'\n",
    "grey = '#F8F8F8'"
   ]
  },
  {
   "cell_type": "code",
   "execution_count": 563,
   "metadata": {},
   "outputs": [],
   "source": [
    "# Отслеживая показатель 'by', построим топ-'n' стран по числу заболевших\n",
    "def plot_topn_by(n, by, title, color_depends_on, highlight_russia=False,\n",
    "                 show_labels=True, show_xticks=True, show=True, save=False):\n",
    "    top_cases_df = df.iloc[:n, :]\n",
    "\n",
    "    fig, ax = plt.subplots(figsize=(16, 12))\n",
    "    ax.set_facecolor(grey)\n",
    "\n",
    "    ax.spines['right'].set_visible(False)\n",
    "    ax.spines['top'].set_visible(False)\n",
    "    ax.spines['left'].set_visible(False)\n",
    "    ax.spines['bottom'].set_linewidth(1)\n",
    "    ax.spines['bottom'].set_edgecolor('#aaaaaa')\n",
    "\n",
    "    # Создание сетки по оси x\n",
    "    xs = range(len(top_cases_df))\n",
    "\n",
    "    # Создание решетки\n",
    "    plt.grid(axis='y', color='#dddddd')\n",
    "\n",
    "    # Отрисовка столбчатой диаграммы\n",
    "    if color_depends_on is not None:\n",
    "        norm = colors.Normalize(df[color_depends_on].min(), df[color_depends_on].max())\n",
    "        cmap = cm.get_cmap('magma')\n",
    "        color = cmap(norm(top_cases_df[color_depends_on].values))\n",
    "    else:\n",
    "        color = blue\n",
    "        \n",
    "    rects = ax.bar(xs, top_cases_df[by], \n",
    "                   width=0.7, \n",
    "                   color=color)\n",
    "\n",
    "    # Метки значений каждого столбца\n",
    "    if show_labels:\n",
    "        for rect in rects:\n",
    "            height = rect.get_height()\n",
    "            ax.annotate(height, \n",
    "                        xy=(rect.get_x() + rect.get_width() / 2, height),\n",
    "                        xytext=(0, 3),\n",
    "                        textcoords=\"offset points\",\n",
    "                        ha='center', va='bottom', fontsize=10)\n",
    "    \n",
    "    # Выделяем Россию\n",
    "    if highlight_russia:\n",
    "        russia_index = top_cases_df.index[top_cases_df['country'] == 'Russia'][0] - 1\n",
    "        max_rate = top_cases_df[by].max()\n",
    "        ax.scatter([xs[russia_index]],\n",
    "                   rects[russia_index].get_height() + max_rate * 0.04, \n",
    "                   color=red,\n",
    "                   s=85,\n",
    "                   marker='v')\n",
    "\n",
    "    ax.set_title(f\"{title} (top-{n} по случаям заболевания)\", fontsize=14)\n",
    "    ax.set_axisbelow(True)\n",
    "    \n",
    "    if show_xticks:\n",
    "        plt.xticks(xs, top_cases_df['country'], rotation='vertical', fontsize=11)\n",
    "    \n",
    "    if save:\n",
    "        plt.savefig(plots_dir + f'top{n}_by-{by}.png', dpi=280)\n",
    "        \n",
    "    if show:\n",
    "        plt.show()\n",
    "    else:\n",
    "        plt.close()"
   ]
  },
  {
   "cell_type": "code",
   "execution_count": 565,
   "metadata": {},
   "outputs": [],
   "source": [
    "ns = [10, 20, 30, 50, 70]\n",
    "for n in ns:\n",
    "    if n > 70:\n",
    "        show_ticks = False\n",
    "    else:\n",
    "        show_ticks = True\n",
    "    plot_topn_by(n=n, by='cases_deaths_rate', color_depends_on='demo_idx',\n",
    "                 title=\"Отношение числа зараженных к числу заболевших\", \n",
    "                 show_labels=False, show_xticks=show_ticks, \n",
    "                 highlight_russia=True, show=False, save=True)\n",
    "    \n",
    "    plot_topn_by(n=n, by='total_deaths', color_depends_on='demo_idx', title=\"Число смертей\",\n",
    "                 show_labels=False, show_xticks=show_ticks, \n",
    "                 highlight_russia=True, show=False, save=True)"
   ]
  },
  {
   "cell_type": "code",
   "execution_count": 553,
   "metadata": {},
   "outputs": [
    {
     "data": {
      "image/png": "[encoded data removed]",
      "text/plain": [
       "<Figure size 1152x864 with 1 Axes>"
      ]
     },
     "metadata": {
      "needs_background": "light"
     },
     "output_type": "display_data"
    }
   ],
   "source": [
    "sorted_df = df.sort_values(by='gdp').iloc[:, -3:]\n",
    "\n",
    "norm = colors.Normalize(sorted_df['demo_idx'].min(), sorted_df['demo_idx'].max())\n",
    "cmap = cm.get_cmap('magma')\n",
    "color = cmap(norm(sorted_df['demo_idx'].values))\n",
    "\n",
    "plt.figure(figsize=(16, 12))\n",
    "xs = range(len(sorted_df))\n",
    "plt.bar(xs, sorted_df['gdp'], color=color)\n",
    "plt.show()"
   ]
  },
  {
   "cell_type": "code",
   "execution_count": null,
   "metadata": {},
   "outputs": [],
   "source": []
  }
 ],
 "metadata": {
  "kernelspec": {
   "display_name": "Python 3",
   "language": "python",
   "name": "python3"
  },
  "language_info": {
   "codemirror_mode": {
    "name": "ipython",
    "version": 3
   },
   "file_extension": ".py",
   "mimetype": "text/x-python",
   "name": "python",
   "nbconvert_exporter": "python",
   "pygments_lexer": "ipython3",
   "version": "3.6.7"
  }
 },
 "nbformat": 4,
 "nbformat_minor": 2
}
